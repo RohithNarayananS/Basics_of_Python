{
 "cells": [
  {
   "cell_type": "markdown",
   "id": "8c0c2035",
   "metadata": {},
   "source": [
    "# Function"
   ]
  },
  {
   "cell_type": "markdown",
   "id": "9f2959a4",
   "metadata": {},
   "source": [
    "### A Function is a block of reusable cude that runs when called."
   ]
  },
  {
   "cell_type": "markdown",
   "id": "ef4fb4ca",
   "metadata": {},
   "source": [
    "## In-built Print Function"
   ]
  },
  {
   "cell_type": "code",
   "execution_count": 1,
   "id": "7f724c54",
   "metadata": {},
   "outputs": [
    {
     "name": "stdout",
     "output_type": "stream",
     "text": [
      "Venom\n"
     ]
    }
   ],
   "source": [
    "print('Venom')"
   ]
  },
  {
   "cell_type": "code",
   "execution_count": 2,
   "id": "b790745c",
   "metadata": {},
   "outputs": [
    {
     "name": "stdout",
     "output_type": "stream",
     "text": [
      "Venom Carnage\n"
     ]
    }
   ],
   "source": [
    "print('Venom','Carnage')"
   ]
  },
  {
   "cell_type": "code",
   "execution_count": 3,
   "id": "f9adff85",
   "metadata": {},
   "outputs": [
    {
     "name": "stdout",
     "output_type": "stream",
     "text": [
      "Venom, Carnage\n"
     ]
    }
   ],
   "source": [
    "print('Venom','Carnage', sep=', ')"
   ]
  },
  {
   "cell_type": "code",
   "execution_count": 4,
   "id": "d2b2ec5c",
   "metadata": {},
   "outputs": [
    {
     "name": "stdout",
     "output_type": "stream",
     "text": [
      "Venom \n",
      " Carnage\n"
     ]
    }
   ],
   "source": [
    "print('Venom','\\n' ,'Carnage')"
   ]
  },
  {
   "cell_type": "code",
   "execution_count": 5,
   "id": "e6b1afec",
   "metadata": {},
   "outputs": [
    {
     "name": "stdout",
     "output_type": "stream",
     "text": [
      " Venom \n",
      " Carnage\n"
     ]
    }
   ],
   "source": [
    "print(' Venom','\\n' ,'Carnage')"
   ]
  },
  {
   "cell_type": "code",
   "execution_count": 6,
   "id": "1d289f3a",
   "metadata": {},
   "outputs": [
    {
     "name": "stdout",
     "output_type": "stream",
     "text": [
      "Venom \t Carnage\n"
     ]
    }
   ],
   "source": [
    "print('Venom','\\t','Carnage')"
   ]
  },
  {
   "cell_type": "code",
   "execution_count": 7,
   "id": "22c9a115",
   "metadata": {},
   "outputs": [
    {
     "name": "stdout",
     "output_type": "stream",
     "text": [
      "Venom\n",
      "\n",
      "\n",
      "Carnage\n"
     ]
    }
   ],
   "source": [
    "print('Venom')\n",
    "print('\\n')\n",
    "print('Carnage')"
   ]
  },
  {
   "cell_type": "code",
   "execution_count": 8,
   "id": "26e84afa",
   "metadata": {},
   "outputs": [
    {
     "name": "stdout",
     "output_type": "stream",
     "text": [
      "7.8\n"
     ]
    }
   ],
   "source": [
    "print(7.8)"
   ]
  },
  {
   "cell_type": "code",
   "execution_count": 9,
   "id": "09fb06bd",
   "metadata": {},
   "outputs": [
    {
     "name": "stdout",
     "output_type": "stream",
     "text": [
      "I am a Legend\n"
     ]
    }
   ],
   "source": [
    "print('I am a Legend', sep=', ')"
   ]
  },
  {
   "cell_type": "code",
   "execution_count": 10,
   "id": "78b955eb",
   "metadata": {},
   "outputs": [
    {
     "name": "stdout",
     "output_type": "stream",
     "text": [
      "venom\n"
     ]
    }
   ],
   "source": [
    "print(\"venom\")"
   ]
  },
  {
   "cell_type": "code",
   "execution_count": 11,
   "id": "a7de0ce2",
   "metadata": {},
   "outputs": [
    {
     "name": "stdout",
     "output_type": "stream",
     "text": [
      "Venom Carnage\n"
     ]
    }
   ],
   "source": [
    "print(\"Venom\",\"Carnage\")"
   ]
  },
  {
   "cell_type": "code",
   "execution_count": 12,
   "id": "ac44c526",
   "metadata": {},
   "outputs": [
    {
     "name": "stdout",
     "output_type": "stream",
     "text": [
      "Venom, Carnage\n"
     ]
    }
   ],
   "source": [
    "print(\"Venom\",\"Carnage\", sep=', ')"
   ]
  },
  {
   "cell_type": "code",
   "execution_count": 13,
   "id": "bc6fe92b",
   "metadata": {},
   "outputs": [
    {
     "name": "stdout",
     "output_type": "stream",
     "text": [
      "Venom\n",
      "\n",
      "\n",
      "Carnage\n"
     ]
    }
   ],
   "source": [
    "print(\"Venom\")\n",
    "print(\"\\n\")\n",
    "print(\"Carnage\")"
   ]
  },
  {
   "cell_type": "code",
   "execution_count": 14,
   "id": "5056ad26",
   "metadata": {},
   "outputs": [
    {
     "name": "stdout",
     "output_type": "stream",
     "text": [
      "Venom \n",
      " Carnage\n"
     ]
    }
   ],
   "source": [
    "print(\"Venom\",\"\\n\",\"Carnage\")"
   ]
  },
  {
   "cell_type": "code",
   "execution_count": 15,
   "id": "dd223771",
   "metadata": {},
   "outputs": [
    {
     "name": "stdout",
     "output_type": "stream",
     "text": [
      "Venom \t Carnage\n"
     ]
    }
   ],
   "source": [
    "print(\"Venom\",\"\\t\",\"Carnage\")"
   ]
  },
  {
   "cell_type": "code",
   "execution_count": 16,
   "id": "c92544d1",
   "metadata": {},
   "outputs": [
    {
     "ename": "SyntaxError",
     "evalue": "invalid syntax (Temp/ipykernel_6224/2607234064.py, line 1)",
     "output_type": "error",
     "traceback": [
      "\u001b[1;36m  File \u001b[1;32m\"C:\\Users\\roshs\\AppData\\Local\\Temp/ipykernel_6224/2607234064.py\"\u001b[1;36m, line \u001b[1;32m1\u001b[0m\n\u001b[1;33m    print(\"Hi, This is King Pin\"s Car\")\u001b[0m\n\u001b[1;37m                                ^\u001b[0m\n\u001b[1;31mSyntaxError\u001b[0m\u001b[1;31m:\u001b[0m invalid syntax\n"
     ]
    }
   ],
   "source": [
    "print(\"Hi, This is King Pin\"s Car\")\n",
    "# Error due to presence of \" within the ()"
   ]
  },
  {
   "cell_type": "code",
   "execution_count": 17,
   "id": "d8336d37",
   "metadata": {},
   "outputs": [
    {
     "name": "stdout",
     "output_type": "stream",
     "text": [
      "Hi, This is King Pin\"s Car\n"
     ]
    }
   ],
   "source": [
    "# The error is solved using \\ operator\n",
    "print(\"Hi, This is King Pin\\\"s Car\")"
   ]
  },
  {
   "cell_type": "code",
   "execution_count": 18,
   "id": "09eb175e",
   "metadata": {},
   "outputs": [
    {
     "name": "stdout",
     "output_type": "stream",
     "text": [
      "Hi, This is King Pin's Car\n"
     ]
    }
   ],
   "source": [
    "# The error can also be solved using different/multiple quotes (' ',\" \",'\" \"')\n",
    "print(\"Hi, This is King Pin's Car\")"
   ]
  },
  {
   "cell_type": "code",
   "execution_count": 19,
   "id": "f8625e38",
   "metadata": {},
   "outputs": [
    {
     "name": "stdout",
     "output_type": "stream",
     "text": [
      "Hi, This is King Pin\"s Car\n"
     ]
    }
   ],
   "source": [
    "# The error can also be solved using a quote multiple times \n",
    "print('''Hi, This is King Pin\"s Car''')"
   ]
  },
  {
   "cell_type": "code",
   "execution_count": 20,
   "id": "252f6085",
   "metadata": {},
   "outputs": [
    {
     "ename": "SyntaxError",
     "evalue": "EOL while scanning string literal (Temp/ipykernel_6224/4223850608.py, line 1)",
     "output_type": "error",
     "traceback": [
      "\u001b[1;36m  File \u001b[1;32m\"C:\\Users\\roshs\\AppData\\Local\\Temp/ipykernel_6224/4223850608.py\"\u001b[1;36m, line \u001b[1;32m1\u001b[0m\n\u001b[1;33m    print(\"Life is ?')\u001b[0m\n\u001b[1;37m                      ^\u001b[0m\n\u001b[1;31mSyntaxError\u001b[0m\u001b[1;31m:\u001b[0m EOL while scanning string literal\n"
     ]
    }
   ],
   "source": [
    "print(\"Life is ?')\n",
    "# Error occuring due to improper use of quotes"
   ]
  },
  {
   "cell_type": "code",
   "execution_count": 21,
   "id": "18070a67",
   "metadata": {},
   "outputs": [
    {
     "name": "stdout",
     "output_type": "stream",
     "text": [
      "Object `is` not found.\n"
     ]
    }
   ],
   "source": [
    "# ? is used to return the program when error occured\n",
    "print(\"Life\"+\"is?"
   ]
  },
  {
   "cell_type": "code",
   "execution_count": 22,
   "id": "72ccef6d",
   "metadata": {},
   "outputs": [
    {
     "ename": "SyntaxError",
     "evalue": "EOL while scanning string literal (Temp/ipykernel_6224/3755744207.py, line 2)",
     "output_type": "error",
     "traceback": [
      "\u001b[1;36m  File \u001b[1;32m\"C:\\Users\\roshs\\AppData\\Local\\Temp/ipykernel_6224/3755744207.py\"\u001b[1;36m, line \u001b[1;32m2\u001b[0m\n\u001b[1;33m    print(\"Life\"+\"is\u001b[0m\n\u001b[1;37m                    ^\u001b[0m\n\u001b[1;31mSyntaxError\u001b[0m\u001b[1;31m:\u001b[0m EOL while scanning string literal\n"
     ]
    }
   ],
   "source": [
    "# This is the result of previous ? program\n",
    "print(\"Life\"+\"is"
   ]
  },
  {
   "cell_type": "code",
   "execution_count": 23,
   "id": "81639740",
   "metadata": {},
   "outputs": [
    {
     "name": "stdout",
     "output_type": "stream",
     "text": [
      "Life is ?\n"
     ]
    }
   ],
   "source": [
    "# Corrected Program\n",
    "print(\"Life\"+\" is ?\")"
   ]
  },
  {
   "cell_type": "code",
   "execution_count": 24,
   "id": "c8ddad3c",
   "metadata": {},
   "outputs": [
    {
     "ename": "TypeError",
     "evalue": "can only concatenate str (not \"int\") to str",
     "output_type": "error",
     "traceback": [
      "\u001b[1;31m---------------------------------------------------------------------------\u001b[0m",
      "\u001b[1;31mTypeError\u001b[0m                                 Traceback (most recent call last)",
      "\u001b[1;32m~\\AppData\\Local\\Temp/ipykernel_6224/2912617901.py\u001b[0m in \u001b[0;36m<module>\u001b[1;34m\u001b[0m\n\u001b[1;32m----> 1\u001b[1;33m \u001b[0mprint\u001b[0m\u001b[1;33m(\u001b[0m\u001b[1;34m\"count\"\u001b[0m\u001b[1;33m+\u001b[0m\u001b[1;36m5\u001b[0m\u001b[1;33m)\u001b[0m\u001b[1;33m\u001b[0m\u001b[1;33m\u001b[0m\u001b[0m\n\u001b[0m\u001b[0;32m      2\u001b[0m \u001b[1;31m# Error occured because the function can only concatenate str (not \"int\") to str\u001b[0m\u001b[1;33m\u001b[0m\u001b[1;33m\u001b[0m\u001b[0m\n",
      "\u001b[1;31mTypeError\u001b[0m: can only concatenate str (not \"int\") to str"
     ]
    }
   ],
   "source": [
    "print(\"count\"+5)\n",
    "# Error occured because the function can only concatenate str (not \"int\") to str"
   ]
  },
  {
   "cell_type": "code",
   "execution_count": 25,
   "id": "4b1e07cd",
   "metadata": {},
   "outputs": [
    {
     "name": "stdout",
     "output_type": "stream",
     "text": [
      "count5\n"
     ]
    }
   ],
   "source": [
    "# Concatenation in Print\n",
    "print(\"count\"+str(5))"
   ]
  }
 ],
 "metadata": {
  "kernelspec": {
   "display_name": "Python 3 (ipykernel)",
   "language": "python",
   "name": "python3"
  },
  "language_info": {
   "codemirror_mode": {
    "name": "ipython",
    "version": 3
   },
   "file_extension": ".py",
   "mimetype": "text/x-python",
   "name": "python",
   "nbconvert_exporter": "python",
   "pygments_lexer": "ipython3",
   "version": "3.9.7"
  }
 },
 "nbformat": 4,
 "nbformat_minor": 5
}
