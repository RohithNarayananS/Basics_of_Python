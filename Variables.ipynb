{
 "cells": [
  {
   "cell_type": "markdown",
   "id": "5ff168be",
   "metadata": {},
   "source": [
    "# Basics of using Variable "
   ]
  },
  {
   "cell_type": "markdown",
   "id": "e8e0dc39",
   "metadata": {},
   "source": [
    "# Notes:"
   ]
  },
  {
   "cell_type": "markdown",
   "id": "665808cd",
   "metadata": {},
   "source": [
    "## 1. What is a Variable?\n",
    "###  Ans: Variables are reserved memory that store data."
   ]
  },
  {
   "cell_type": "code",
   "execution_count": 1,
   "id": "28fd042c",
   "metadata": {},
   "outputs": [
    {
     "ename": "SyntaxError",
     "evalue": "invalid syntax (Temp/ipykernel_12792/3346801610.py, line 1)",
     "output_type": "error",
     "traceback": [
      "\u001b[1;36m  File \u001b[1;32m\"C:\\Users\\roshs\\AppData\\Local\\Temp/ipykernel_12792/3346801610.py\"\u001b[1;36m, line \u001b[1;32m1\u001b[0m\n\u001b[1;33m    4sample_list=[1,2,3,4]\u001b[0m\n\u001b[1;37m     ^\u001b[0m\n\u001b[1;31mSyntaxError\u001b[0m\u001b[1;31m:\u001b[0m invalid syntax\n"
     ]
    }
   ],
   "source": [
    "4sample_list=[1,2,3,4] "
   ]
  },
  {
   "cell_type": "markdown",
   "id": "f4cd6c54",
   "metadata": {},
   "source": [
    "### Variable Name should not start with a Number"
   ]
  },
  {
   "cell_type": "code",
   "execution_count": 2,
   "id": "bf42b824",
   "metadata": {},
   "outputs": [
    {
     "ename": "SyntaxError",
     "evalue": "invalid syntax (Temp/ipykernel_12792/398172742.py, line 1)",
     "output_type": "error",
     "traceback": [
      "\u001b[1;36m  File \u001b[1;32m\"C:\\Users\\roshs\\AppData\\Local\\Temp/ipykernel_12792/398172742.py\"\u001b[1;36m, line \u001b[1;32m1\u001b[0m\n\u001b[1;33m    $sample_list=[1,2,3,4]\u001b[0m\n\u001b[1;37m    ^\u001b[0m\n\u001b[1;31mSyntaxError\u001b[0m\u001b[1;31m:\u001b[0m invalid syntax\n"
     ]
    }
   ],
   "source": [
    "$sample_list=[1,2,3,4]"
   ]
  },
  {
   "cell_type": "code",
   "execution_count": 3,
   "id": "e1f46f20",
   "metadata": {},
   "outputs": [],
   "source": [
    "_samplelist=[1,2,3,4]"
   ]
  },
  {
   "cell_type": "markdown",
   "id": "4e38a3ad",
   "metadata": {},
   "source": [
    "### Variable Name can start with Underscore(_)"
   ]
  },
  {
   "cell_type": "code",
   "execution_count": 4,
   "id": "139f8eae",
   "metadata": {},
   "outputs": [
    {
     "ename": "SyntaxError",
     "evalue": "invalid syntax (Temp/ipykernel_12792/989919164.py, line 1)",
     "output_type": "error",
     "traceback": [
      "\u001b[1;36m  File \u001b[1;32m\"C:\\Users\\roshs\\AppData\\Local\\Temp/ipykernel_12792/989919164.py\"\u001b[1;36m, line \u001b[1;32m1\u001b[0m\n\u001b[1;33m    s!mple_list=[1,2,3,4]\u001b[0m\n\u001b[1;37m     ^\u001b[0m\n\u001b[1;31mSyntaxError\u001b[0m\u001b[1;31m:\u001b[0m invalid syntax\n"
     ]
    }
   ],
   "source": [
    "s!mple_list=[1,2,3,4]"
   ]
  },
  {
   "cell_type": "markdown",
   "id": "ad7d371d",
   "metadata": {},
   "source": [
    "### Variable Name should Not have special characters other than underscore(_)"
   ]
  },
  {
   "cell_type": "code",
   "execution_count": 5,
   "id": "2880f537",
   "metadata": {},
   "outputs": [
    {
     "ename": "SyntaxError",
     "evalue": "cannot assign to operator (Temp/ipykernel_12792/2466065514.py, line 1)",
     "output_type": "error",
     "traceback": [
      "\u001b[1;36m  File \u001b[1;32m\"C:\\Users\\roshs\\AppData\\Local\\Temp/ipykernel_12792/2466065514.py\"\u001b[1;36m, line \u001b[1;32m1\u001b[0m\n\u001b[1;33m    sample-list=[1,2,3,4]\u001b[0m\n\u001b[1;37m    ^\u001b[0m\n\u001b[1;31mSyntaxError\u001b[0m\u001b[1;31m:\u001b[0m cannot assign to operator\n"
     ]
    }
   ],
   "source": [
    "sample-list=[1,2,3,4]"
   ]
  },
  {
   "cell_type": "markdown",
   "id": "a46fc528",
   "metadata": {},
   "source": [
    "### Variable name should Not have Operators"
   ]
  },
  {
   "cell_type": "code",
   "execution_count": 6,
   "id": "4431023f",
   "metadata": {},
   "outputs": [],
   "source": [
    "s4ample_list=[1,2,3,4]"
   ]
  },
  {
   "cell_type": "markdown",
   "id": "0ff9debe",
   "metadata": {},
   "source": [
    "### Variable Name can have numbers in it but Not at first."
   ]
  },
  {
   "cell_type": "code",
   "execution_count": 7,
   "id": "63de8b9d",
   "metadata": {},
   "outputs": [],
   "source": [
    "sample_list=[1,2,3,4]"
   ]
  },
  {
   "cell_type": "code",
   "execution_count": 8,
   "id": "d7e37602",
   "metadata": {},
   "outputs": [],
   "source": [
    "Sample_list=[1,2,3,4]"
   ]
  },
  {
   "cell_type": "markdown",
   "id": "072dc94c",
   "metadata": {},
   "source": [
    "### Varaiable Name should Always start with Alphabets(Small/Capital) or with Underscore(_)|"
   ]
  },
  {
   "cell_type": "code",
   "execution_count": 9,
   "id": "89eca78c",
   "metadata": {},
   "outputs": [
    {
     "data": {
      "text/plain": [
       "5"
      ]
     },
     "execution_count": 9,
     "metadata": {},
     "output_type": "execute_result"
    }
   ],
   "source": [
    "x=4+5\n",
    "x=2+3 #Reassigning\n",
    "x"
   ]
  },
  {
   "cell_type": "code",
   "execution_count": 10,
   "id": "6426812f",
   "metadata": {},
   "outputs": [
    {
     "data": {
      "text/plain": [
       "5"
      ]
     },
     "execution_count": 10,
     "metadata": {},
     "output_type": "execute_result"
    }
   ],
   "source": [
    "x=4+5\n",
    "y=2+3 #Variable printing\n",
    "x\n",
    "y"
   ]
  },
  {
   "cell_type": "code",
   "execution_count": 11,
   "id": "42145ab8",
   "metadata": {},
   "outputs": [
    {
     "name": "stdout",
     "output_type": "stream",
     "text": [
      "9 5\n"
     ]
    }
   ],
   "source": [
    "print(x, y) #Variable printing using print() function"
   ]
  },
  {
   "cell_type": "code",
   "execution_count": 12,
   "id": "563c44a6",
   "metadata": {},
   "outputs": [
    {
     "data": {
      "text/plain": [
       "9"
      ]
     },
     "execution_count": 12,
     "metadata": {},
     "output_type": "execute_result"
    }
   ],
   "source": [
    "a=x #Variable assigning\n",
    "a"
   ]
  },
  {
   "cell_type": "code",
   "execution_count": 13,
   "id": "e977b2a4",
   "metadata": {},
   "outputs": [
    {
     "data": {
      "text/plain": [
       "(10, 10, 10)"
      ]
     },
     "execution_count": 13,
     "metadata": {},
     "output_type": "execute_result"
    }
   ],
   "source": [
    "x=y=z=10 #Values assigning using '='\n",
    "x,y,z"
   ]
  },
  {
   "cell_type": "code",
   "execution_count": 14,
   "id": "79ce3920",
   "metadata": {},
   "outputs": [
    {
     "data": {
      "text/plain": [
       "(10, 9, 8)"
      ]
     },
     "execution_count": 14,
     "metadata": {},
     "output_type": "execute_result"
    }
   ],
   "source": [
    "x,y,z,=10,9,8 #Values assigning using ',' & '='\n",
    "x,y,z"
   ]
  }
 ],
 "metadata": {
  "kernelspec": {
   "display_name": "Python 3 (ipykernel)",
   "language": "python",
   "name": "python3"
  },
  "language_info": {
   "codemirror_mode": {
    "name": "ipython",
    "version": 3
   },
   "file_extension": ".py",
   "mimetype": "text/x-python",
   "name": "python",
   "nbconvert_exporter": "python",
   "pygments_lexer": "ipython3",
   "version": "3.9.7"
  }
 },
 "nbformat": 4,
 "nbformat_minor": 5
}
