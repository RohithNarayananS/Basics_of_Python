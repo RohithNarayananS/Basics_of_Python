{
 "cells": [
  {
   "cell_type": "markdown",
   "id": "c69b7748",
   "metadata": {},
   "source": [
    "# Basics of Python Flow Controls"
   ]
  },
  {
   "cell_type": "markdown",
   "id": "688ee27c",
   "metadata": {},
   "source": [
    "### Using if statement"
   ]
  },
  {
   "cell_type": "code",
   "execution_count": 1,
   "id": "5574e949",
   "metadata": {},
   "outputs": [
    {
     "name": "stdout",
     "output_type": "stream",
     "text": [
      "8 is greater than 1\n",
      "done\n"
     ]
    }
   ],
   "source": [
    "x=8 #if condition satisfies\n",
    "if (x>1):\n",
    "    print(x,'is greater than 1')\n",
    "print('done')"
   ]
  },
  {
   "cell_type": "code",
   "execution_count": 2,
   "id": "4c93ec41",
   "metadata": {},
   "outputs": [
    {
     "name": "stdout",
     "output_type": "stream",
     "text": [
      "done\n"
     ]
    }
   ],
   "source": [
    "x=8 #if condition not satisfies\n",
    "if (x>10):\n",
    "    print(x,'is greater than 1')\n",
    "print('done')"
   ]
  },
  {
   "cell_type": "markdown",
   "id": "88b0eaad",
   "metadata": {},
   "source": [
    "### Using if else statement"
   ]
  },
  {
   "cell_type": "code",
   "execution_count": 3,
   "id": "16cb5d29",
   "metadata": {},
   "outputs": [
    {
     "name": "stdout",
     "output_type": "stream",
     "text": [
      "8 is lesser than 10\n",
      "done\n"
     ]
    }
   ],
   "source": [
    "x=8\n",
    "if(x>10):\n",
    "    print(x,'is greater than 10')\n",
    "else:\n",
    "    print(x,'is lesser than 10')\n",
    "print('done')"
   ]
  },
  {
   "cell_type": "markdown",
   "id": "c15c8e4e",
   "metadata": {},
   "source": [
    "### Using if elif elif ... else statement"
   ]
  },
  {
   "cell_type": "code",
   "execution_count": 5,
   "id": "878c2f5e",
   "metadata": {},
   "outputs": [
    {
     "name": "stdout",
     "output_type": "stream",
     "text": [
      "Enter Your Lucky Number within the nmber 4: 5\n",
      "Please Read and Reply\n"
     ]
    }
   ],
   "source": [
    "x=int(input('Enter Your Lucky Number within the nmber 4: '))\n",
    "if(5>x>0):\n",
    "    print('you are lucky')\n",
    "elif (x==0):\n",
    "    print('you are lucky')\n",
    "else:\n",
    "    print('Please Read and Reply')"
   ]
  },
  {
   "cell_type": "markdown",
   "id": "0d217717",
   "metadata": {},
   "source": [
    "### Using Nested if statement"
   ]
  },
  {
   "cell_type": "code",
   "execution_count": 7,
   "id": "ffb9bc15",
   "metadata": {},
   "outputs": [
    {
     "name": "stdout",
     "output_type": "stream",
     "text": [
      "34 i.e. y is the greatest\n"
     ]
    }
   ],
   "source": [
    "x=10\n",
    "y=34\n",
    "z=5\n",
    "if(x>y):\n",
    "    if(x>z):\n",
    "        print(x,'i.e. x is the greatest')\n",
    "    else:\n",
    "        print(z,'i.e. z is the greatest')\n",
    "else:\n",
    "    if(y>z):\n",
    "        print(y,'i.e. y is the greatest')\n",
    "    else:\n",
    "        print(z,'i.e. z is the greatest')"
   ]
  },
  {
   "cell_type": "markdown",
   "id": "f3912e2e",
   "metadata": {},
   "source": [
    "### Using while statement"
   ]
  },
  {
   "cell_type": "code",
   "execution_count": 8,
   "id": "86f3767b",
   "metadata": {},
   "outputs": [
    {
     "name": "stdout",
     "output_type": "stream",
     "text": [
      "Answer is  55\n"
     ]
    }
   ],
   "source": [
    "#Program to find the summation of all natural numbers till 10\n",
    "num=10\n",
    "#initializing addition and counter\n",
    "sum=0\n",
    "i=1\n",
    "while(i<=num):\n",
    "    sum=sum+i\n",
    "    i=i+1\n",
    "#print the sum\n",
    "print('Answer is ',sum)"
   ]
  },
  {
   "cell_type": "code",
   "execution_count": 9,
   "id": "791112e0",
   "metadata": {},
   "outputs": [
    {
     "name": "stdout",
     "output_type": "stream",
     "text": [
      "Answer is 100\n"
     ]
    }
   ],
   "source": [
    "#program to find the sum of first 10 odd numbers\n",
    "num=20\n",
    "sum=0\n",
    "i=1\n",
    "while(i<=num):\n",
    "    sum=sum+i\n",
    "    i=i+2\n",
    "print('Answer is', sum)"
   ]
  },
  {
   "cell_type": "markdown",
   "id": "8cabb542",
   "metadata": {},
   "source": [
    "### Using for Statement"
   ]
  },
  {
   "cell_type": "code",
   "execution_count": 10,
   "id": "3e8e37a7",
   "metadata": {},
   "outputs": [
    {
     "name": "stdout",
     "output_type": "stream",
     "text": [
      "Sum is 55\n"
     ]
    }
   ],
   "source": [
    "#Program to find the summation of all natural numbers till 10 using for loop\n",
    "num=range(1,11)\n",
    "sum=0\n",
    "for i in num: #i takes one value from num which ranges from 1 to 10 so i changes from 1,2,3,4,...,10\n",
    "    sum=sum+i\n",
    "print('Sum is',sum)"
   ]
  },
  {
   "cell_type": "code",
   "execution_count": 11,
   "id": "6ce8f738",
   "metadata": {},
   "outputs": [
    {
     "name": "stdout",
     "output_type": "stream",
     "text": [
      "Sum is 100\n"
     ]
    }
   ],
   "source": [
    "#program to find the sum of first 10 odd numbers using for loop\n",
    "num=range(1,21,2)\n",
    "sum=0\n",
    "for i in num: #i takes one value from num which ranges from 1 to 10 so i changes from 1,2,3,4,...,10\n",
    "    sum=sum+i\n",
    "print('Sum is',sum)"
   ]
  },
  {
   "cell_type": "markdown",
   "id": "1530ba3c",
   "metadata": {},
   "source": [
    "### Using break condition"
   ]
  },
  {
   "cell_type": "code",
   "execution_count": 12,
   "id": "db4b8c4d",
   "metadata": {},
   "outputs": [
    {
     "name": "stdout",
     "output_type": "stream",
     "text": [
      "k\n",
      "n\n",
      "o\n",
      "w\n",
      "l\n",
      "e\n",
      "d\n",
      "g\n",
      "e\n",
      "g\n",
      "The for loop stopped executing\n"
     ]
    }
   ],
   "source": [
    "#declare a sring variable\n",
    "text=\"knowledgegut\"\n",
    "for letter in text:#letter take one at a time for every iteration over the string\n",
    "    if letter== 'u': #condition to stop the execution of the loop\n",
    "        break\n",
    "    print(letter)\n",
    "print(\"The for loop stopped executing\")    "
   ]
  },
  {
   "cell_type": "markdown",
   "id": "4a6d14e9",
   "metadata": {},
   "source": [
    "### Using continue condition"
   ]
  },
  {
   "cell_type": "code",
   "execution_count": 13,
   "id": "3d2dcdd9",
   "metadata": {},
   "outputs": [
    {
     "name": "stdout",
     "output_type": "stream",
     "text": [
      "k\n",
      "n\n",
      "o\n",
      "w\n",
      "l\n",
      "e\n",
      "d\n",
      "g\n",
      "e\n",
      "The loop skipped a space here\n",
      "g\n",
      "u\n",
      "t\n"
     ]
    }
   ],
   "source": [
    "#declare a sring variable\n",
    "text=\"knowledge gut\"\n",
    "for letter in text:#letter take one at a time for every iteration over the string\n",
    "    if letter==' ': #condition to skip printing of letters\n",
    "        print(\"The loop skipped a space here\")\n",
    "        continue\n",
    "    print(letter)   "
   ]
  },
  {
   "cell_type": "markdown",
   "id": "3b14acd7",
   "metadata": {},
   "source": [
    "### Using Nested for loop"
   ]
  },
  {
   "cell_type": "code",
   "execution_count": 14,
   "id": "7b4cd087",
   "metadata": {},
   "outputs": [
    {
     "name": "stdout",
     "output_type": "stream",
     "text": [
      "\n",
      "#\n",
      "##\n",
      "###\n",
      "####\n",
      "#####\n",
      "######\n",
      "#######\n",
      "########\n",
      "#########\n",
      "##########\n"
     ]
    }
   ],
   "source": [
    "#Code for # print line\n",
    "for i in range(11):               #line 1\n",
    "    for j in range(i):            #line 2\n",
    "        print('#', end='')        #line 3\n",
    "    print('')                     #line 4"
   ]
  }
 ],
 "metadata": {
  "kernelspec": {
   "display_name": "Python 3 (ipykernel)",
   "language": "python",
   "name": "python3"
  },
  "language_info": {
   "codemirror_mode": {
    "name": "ipython",
    "version": 3
   },
   "file_extension": ".py",
   "mimetype": "text/x-python",
   "name": "python",
   "nbconvert_exporter": "python",
   "pygments_lexer": "ipython3",
   "version": "3.9.7"
  }
 },
 "nbformat": 4,
 "nbformat_minor": 5
}
