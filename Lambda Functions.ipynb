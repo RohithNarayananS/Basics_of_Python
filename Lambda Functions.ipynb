{
 "cells": [
  {
   "cell_type": "markdown",
   "id": "98bf9668",
   "metadata": {},
   "source": [
    "# Basics of Lambda Functions:"
   ]
  },
  {
   "cell_type": "code",
   "execution_count": 1,
   "id": "4cc97186",
   "metadata": {},
   "outputs": [
    {
     "data": {
      "text/plain": [
       "<function __main__.<lambda>(variable_1, variable_2)>"
      ]
     },
     "execution_count": 1,
     "metadata": {},
     "output_type": "execute_result"
    }
   ],
   "source": [
    "# Simple lambda function\n",
    "lambda variable_1, variable_2: expression_i.e._function"
   ]
  },
  {
   "cell_type": "code",
   "execution_count": 2,
   "id": "418d54c4",
   "metadata": {},
   "outputs": [
    {
     "name": "stdout",
     "output_type": "stream",
     "text": [
      "2\n"
     ]
    }
   ],
   "source": [
    "# Creating the lambda function\n",
    "addition = lambda x: x+x\n",
    "# Calling The Lambda Function\n",
    "sum = addition(1)\n",
    "# Printing The Result\n",
    "print(sum)"
   ]
  },
  {
   "cell_type": "markdown",
   "id": "5d1fe35b",
   "metadata": {},
   "source": [
    "### Multiple arguments in the lambda function:"
   ]
  },
  {
   "cell_type": "code",
   "execution_count": 3,
   "id": "6f6ff62a",
   "metadata": {},
   "outputs": [
    {
     "name": "stdout",
     "output_type": "stream",
     "text": [
      "100\n"
     ]
    }
   ],
   "source": [
    "# Creating the lambda function\n",
    "exponential_value = lambda x, y: x**y\n",
    "# Calling the lambda function\n",
    "result = exponential_value(10, 2)\n",
    "# Printing the result\n",
    "print(result)"
   ]
  },
  {
   "cell_type": "markdown",
   "id": "0cc335e3",
   "metadata": {},
   "source": [
    "### Applying condition to a lambda function:"
   ]
  },
  {
   "cell_type": "code",
   "execution_count": 4,
   "id": "d601e31d",
   "metadata": {},
   "outputs": [
    {
     "data": {
      "text/plain": [
       "<function __main__.<lambda>(argument)>"
      ]
     },
     "execution_count": 4,
     "metadata": {},
     "output_type": "execute_result"
    }
   ],
   "source": [
    "# Applying condition to a simple lambda function\n",
    "lambda argument: x if expression_i.e._condition else y"
   ]
  },
  {
   "cell_type": "code",
   "execution_count": 5,
   "id": "68b0b8f5",
   "metadata": {},
   "outputs": [
    {
     "name": "stdout",
     "output_type": "stream",
     "text": [
      "2\n"
     ]
    }
   ],
   "source": [
    "# Creating the lambda function\n",
    "multiplication_value = lambda x, y: x*3 if (x>2) else y\n",
    "# Calling The lambda function\n",
    "result = multiplication_value(1, 2)\n",
    "# Printing the result\n",
    "print(result)"
   ]
  },
  {
   "cell_type": "markdown",
   "id": "bfa53cd6",
   "metadata": {},
   "source": [
    "### Default lambda argument:"
   ]
  },
  {
   "cell_type": "code",
   "execution_count": 6,
   "id": "ac8c05bc",
   "metadata": {},
   "outputs": [
    {
     "name": "stdout",
     "output_type": "stream",
     "text": [
      "50\n"
     ]
    }
   ],
   "source": [
    "# Creating the lambda function\n",
    "centimeter_to_millimeter = lambda x, y = 10: (x*10)\n",
    "# Calling the lambda function\n",
    "result = centimeter_to_millimeter(5)\n",
    "# Printing the result\n",
    "print(result)"
   ]
  }
 ],
 "metadata": {
  "kernelspec": {
   "display_name": "Python 3 (ipykernel)",
   "language": "python",
   "name": "python3"
  },
  "language_info": {
   "codemirror_mode": {
    "name": "ipython",
    "version": 3
   },
   "file_extension": ".py",
   "mimetype": "text/x-python",
   "name": "python",
   "nbconvert_exporter": "python",
   "pygments_lexer": "ipython3",
   "version": "3.9.7"
  }
 },
 "nbformat": 4,
 "nbformat_minor": 5
}
