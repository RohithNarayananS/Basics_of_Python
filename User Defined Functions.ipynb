{
 "cells": [
  {
   "cell_type": "markdown",
   "id": "778bb429",
   "metadata": {},
   "source": [
    "# Basics of User Defined Functions"
   ]
  },
  {
   "cell_type": "markdown",
   "id": "b9c3f597",
   "metadata": {},
   "source": [
    "### Note\n",
    "##### def area_of_rectriangle(length, breadth): \n",
    "#####         return(length*breadth)\n",
    "##### Where 'def' is keyword, 'area_of_rectriangle' is Function Name, 'return' keyword to return the computed value & 'length, height' are input parameters."
   ]
  },
  {
   "cell_type": "code",
   "execution_count": 1,
   "id": "0d493f3b",
   "metadata": {},
   "outputs": [
    {
     "name": "stdout",
     "output_type": "stream",
     "text": [
      "Hi, Hello & Welcome\n"
     ]
    }
   ],
   "source": [
    "#Create a function 'welcome' to display greeting whenever the function is called\n",
    "def welcome(): #Defining the Function\n",
    "    print('Hi, Hello & Welcome')\n",
    "welcome() #Calling the Function"
   ]
  },
  {
   "cell_type": "code",
   "execution_count": 2,
   "id": "e655e235",
   "metadata": {},
   "outputs": [
    {
     "name": "stdout",
     "output_type": "stream",
     "text": [
      "Enter Your Name:Rohith\n",
      "Hi, Hello Rohith Welcome to Fantasy Island\n"
     ]
    }
   ],
   "source": [
    "#Create a function 'welcome' that displays a greeting to the person whose name is provided\n",
    "def welcome(Name):\n",
    "    print(\"Hi, Hello\",Name,\"Welcome to Fantasy Island\")\n",
    "Name_of_Interactor=str(input(\"Enter Your Name:\"))\n",
    "welcome(Name_of_Interactor)"
   ]
  },
  {
   "cell_type": "code",
   "execution_count": 3,
   "id": "f95ee5dc",
   "metadata": {},
   "outputs": [
    {
     "name": "stdout",
     "output_type": "stream",
     "text": [
      "Enter Your Name:Rohith\n"
     ]
    },
    {
     "ename": "TypeError",
     "evalue": "welcome() missing 1 required positional argument: 'Name'",
     "output_type": "error",
     "traceback": [
      "\u001b[1;31m---------------------------------------------------------------------------\u001b[0m",
      "\u001b[1;31mTypeError\u001b[0m                                 Traceback (most recent call last)",
      "\u001b[1;32m~\\AppData\\Local\\Temp/ipykernel_2732/1586472999.py\u001b[0m in \u001b[0;36m<module>\u001b[1;34m\u001b[0m\n\u001b[0;32m      3\u001b[0m     \u001b[0mprint\u001b[0m\u001b[1;33m(\u001b[0m\u001b[1;34m\"Hi, Hello\"\u001b[0m\u001b[1;33m,\u001b[0m\u001b[0mName\u001b[0m\u001b[1;33m,\u001b[0m\u001b[1;34m\"Welcome to Fantasy Island\"\u001b[0m\u001b[1;33m)\u001b[0m\u001b[1;33m\u001b[0m\u001b[1;33m\u001b[0m\u001b[0m\n\u001b[0;32m      4\u001b[0m \u001b[0mName_of_Interactor\u001b[0m\u001b[1;33m=\u001b[0m\u001b[0mstr\u001b[0m\u001b[1;33m(\u001b[0m\u001b[0minput\u001b[0m\u001b[1;33m(\u001b[0m\u001b[1;34m\"Enter Your Name:\"\u001b[0m\u001b[1;33m)\u001b[0m\u001b[1;33m)\u001b[0m\u001b[1;33m\u001b[0m\u001b[1;33m\u001b[0m\u001b[0m\n\u001b[1;32m----> 5\u001b[1;33m \u001b[0mwelcome\u001b[0m\u001b[1;33m(\u001b[0m\u001b[1;33m)\u001b[0m \u001b[1;31m#Error occurs due to missing of the argument'Name_of_Interactor' in welcome function\u001b[0m\u001b[1;33m\u001b[0m\u001b[1;33m\u001b[0m\u001b[0m\n\u001b[0m",
      "\u001b[1;31mTypeError\u001b[0m: welcome() missing 1 required positional argument: 'Name'"
     ]
    }
   ],
   "source": [
    "#Take the name from the user\n",
    "def welcome(Name):\n",
    "    print(\"Hi, Hello\",Name,\"Welcome to Fantasy Island\")\n",
    "Name_of_Interactor=str(input(\"Enter Your Name:\"))\n",
    "welcome() #Error occurs due to missing of the argument'Name_of_Interactor' in welcome function"
   ]
  },
  {
   "cell_type": "code",
   "execution_count": 4,
   "id": "09f1a856",
   "metadata": {},
   "outputs": [
    {
     "name": "stdout",
     "output_type": "stream",
     "text": [
      "18\n"
     ]
    }
   ],
   "source": [
    "#The return Keyword\n",
    "#Create a function \"add\" that takes three input parameters and adds them\n",
    "def add(num1, num2, num3):\n",
    "    sum=num1+num2+num3\n",
    "    return(sum)\n",
    "#Call the function by passing three values and assignng to a variable\n",
    "sumation=add(5,6,7)\n",
    "print(sumation)"
   ]
  },
  {
   "cell_type": "code",
   "execution_count": 5,
   "id": "baa4fc35",
   "metadata": {},
   "outputs": [
    {
     "name": "stdout",
     "output_type": "stream",
     "text": [
      "None\n"
     ]
    }
   ],
   "source": [
    "#The return Keyword\n",
    "#Create a function \"add\" that takes three input parameters and adds them\n",
    "def add(num1, num2, num3):\n",
    "    sum=num1+num2+num3\n",
    "    return\n",
    "#Call the function by passing three values and assignng to a variable\n",
    "sumation=add(5,6,7)\n",
    "print(sumation) #Prints 'None' because the function returns no value if we use return keyword in the function with any return value"
   ]
  },
  {
   "cell_type": "markdown",
   "id": "56f0160c",
   "metadata": {},
   "source": [
    "### Function Arguments:\n",
    "##### 1. Required Arguements - These are the arguments passed to a function in correct positional order\n",
    "##### 2. Keyword Arguments - When we call a function with some values, these values get assigned to the arguments according to their position, opon calling the functions in this way, the order(position) of the arguments can be changed, such arguments are called as keyword arguments.\n",
    "##### 3. Default Arguments - A default argument is a value provided in a function declaration that is automatically assigned by the compiler if the caller of the function dosen't provide a value for the argument\n",
    "##### 4. Variable-Length Arguments - Using *args helps you passing variable number of argument, this is espeacially helpful when you do not know how many arguments to pass to the function"
   ]
  },
  {
   "cell_type": "code",
   "execution_count": 6,
   "id": "4149d400",
   "metadata": {},
   "outputs": [
    {
     "name": "stdout",
     "output_type": "stream",
     "text": [
      "First Arg. is: 8\n",
      "Second Arg. is: 1\n"
     ]
    }
   ],
   "source": [
    "#Required Arguments\n",
    "def reg_arg(num1, num2): #Definig a function\n",
    "    print(\"First Arg. is:\",num1)\n",
    "    print(\"Second Arg. is:\",num2)\n",
    "num1=1\n",
    "num2=8\n",
    "reg_arg(num2,num1)"
   ]
  }
 ],
 "metadata": {
  "kernelspec": {
   "display_name": "Python 3 (ipykernel)",
   "language": "python",
   "name": "python3"
  },
  "language_info": {
   "codemirror_mode": {
    "name": "ipython",
    "version": 3
   },
   "file_extension": ".py",
   "mimetype": "text/x-python",
   "name": "python",
   "nbconvert_exporter": "python",
   "pygments_lexer": "ipython3",
   "version": "3.9.7"
  }
 },
 "nbformat": 4,
 "nbformat_minor": 5
}
